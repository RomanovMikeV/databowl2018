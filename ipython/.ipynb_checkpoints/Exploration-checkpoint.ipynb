{
 "cells": [
  {
   "cell_type": "code",
   "execution_count": 5,
   "metadata": {
    "collapsed": true
   },
   "outputs": [],
   "source": [
    "%matplotlib inline\n",
    "import matplotlib.pyplot as plt\n",
    "from ipywidgets import interact\n",
    "import ipywidgets as widgets\n",
    "import skimage.io\n",
    "import skimage.transform\n",
    "import skimage.filters\n",
    "import skimage.morphology\n",
    "import skimage.restoration\n",
    "\n",
    "\n",
    "import numpy\n",
    "import torch\n",
    "import scipy\n",
    "import os"
   ]
  },
  {
   "cell_type": "code",
   "execution_count": 6,
   "metadata": {
    "collapsed": true
   },
   "outputs": [],
   "source": [
    "train_data_dir = '../data/train/'\n",
    "test_data_dir = '../data/test/'"
   ]
  },
  {
   "cell_type": "code",
   "execution_count": 7,
   "metadata": {},
   "outputs": [
    {
     "name": "stdout",
     "output_type": "stream",
     "text": [
      "670 <- train images\n",
      "65 <- test images\n"
     ]
    }
   ],
   "source": [
    "print(len(os.listdir(train_data_dir)), '<- train images')\n",
    "print(len(os.listdir(test_data_dir)), '<- test images')"
   ]
  },
  {
   "cell_type": "code",
   "execution_count": 70,
   "metadata": {},
   "outputs": [
    {
     "name": "stdout",
     "output_type": "stream",
     "text": [
      "df33b11184427e05c8a450f921586685975fe975f57315e686a0f26fddb93db1 <- image name\n",
      "[[False False False ..., False False False]\n",
      " [False False False ..., False False False]\n",
      " [False False False ..., False False False]\n",
      " ..., \n",
      " [False False False ..., False False False]\n",
      " [False False False ..., False False False]\n",
      " [False False False ..., False False False]]\n",
      "[[False False False ..., False False False]\n",
      " [False False False ..., False False False]\n",
      " [False False False ..., False False False]\n",
      " ..., \n",
      " [False False False ..., False False False]\n",
      " [False False False ..., False False False]\n",
      " [False False False ..., False False False]]\n",
      "[[False False False ..., False False False]\n",
      " [False False False ..., False False False]\n",
      " [False False False ..., False False False]\n",
      " ..., \n",
      " [False False False ..., False False False]\n",
      " [False False False ..., False False False]\n",
      " [False False False ..., False False False]]\n",
      "[[False False False ..., False False False]\n",
      " [False False False ..., False False False]\n",
      " [False False False ..., False False False]\n",
      " ..., \n",
      " [False False False ..., False False False]\n",
      " [False False False ..., False False False]\n",
      " [False False False ..., False False False]]\n",
      "[[False False False ..., False False False]\n",
      " [False False False ..., False False False]\n",
      " [False False False ..., False False False]\n",
      " ..., \n",
      " [False False False ..., False False False]\n",
      " [False False False ..., False False False]\n",
      " [False False False ..., False False False]]\n",
      "[[False False False ..., False False False]\n",
      " [False False False ..., False False False]\n",
      " [False False False ..., False False False]\n",
      " ..., \n",
      " [False False False ..., False False False]\n",
      " [False False False ..., False False False]\n",
      " [False False False ..., False False False]]\n",
      "[[False False False ..., False False False]\n",
      " [False False False ..., False False False]\n",
      " [False False False ..., False False False]\n",
      " ..., \n",
      " [False False False ..., False False False]\n",
      " [False False False ..., False False False]\n",
      " [False False False ..., False False False]]\n",
      "[[False False False ..., False False False]\n",
      " [False False False ..., False False False]\n",
      " [False False False ..., False False False]\n",
      " ..., \n",
      " [False False False ..., False False False]\n",
      " [False False False ..., False False False]\n",
      " [False False False ..., False False False]]\n",
      "[[False False False ..., False False False]\n",
      " [False False False ..., False False False]\n",
      " [False False False ..., False False False]\n",
      " ..., \n",
      " [False False False ..., False False False]\n",
      " [False False False ..., False False False]\n",
      " [False False False ..., False False False]]\n",
      "[[False False False ..., False False False]\n",
      " [False False False ..., False False False]\n",
      " [False False False ..., False False False]\n",
      " ..., \n",
      " [False False False ..., False False False]\n",
      " [False False False ..., False False False]\n",
      " [False False False ..., False False False]]\n",
      "[[False False False ..., False False False]\n",
      " [False False False ..., False False False]\n",
      " [False False False ..., False False False]\n",
      " ..., \n",
      " [False False False ..., False False False]\n",
      " [False False False ..., False False False]\n",
      " [False False False ..., False False False]]\n",
      "[[False False False ..., False False False]\n",
      " [False False False ..., False False False]\n",
      " [False False False ..., False False False]\n",
      " ..., \n",
      " [False False False ..., False False False]\n",
      " [False False False ..., False False False]\n",
      " [False False False ..., False False False]]\n",
      "[[False False False ..., False False False]\n",
      " [False False False ..., False False False]\n",
      " [False False False ..., False False False]\n",
      " ..., \n",
      " [False False False ..., False False False]\n",
      " [False False False ..., False False False]\n",
      " [False False False ..., False False False]]\n",
      "[[False False False ..., False False False]\n",
      " [False False False ..., False False False]\n",
      " [False False False ..., False False False]\n",
      " ..., \n",
      " [False False False ..., False False False]\n",
      " [False False False ..., False False False]\n",
      " [False False False ..., False False False]]\n",
      "[[False False False ..., False False False]\n",
      " [False False False ..., False False False]\n",
      " [False False False ..., False False False]\n",
      " ..., \n",
      " [False False False ..., False False False]\n",
      " [False False False ..., False False False]\n",
      " [False False False ..., False False False]]\n",
      "[[False False False ..., False False False]\n",
      " [False False False ..., False False False]\n",
      " [False False False ..., False False False]\n",
      " ..., \n",
      " [False False False ..., False False False]\n",
      " [False False False ..., False False False]\n",
      " [False False False ..., False False False]]\n",
      "[[False False False ..., False False False]\n",
      " [False False False ..., False False False]\n",
      " [False False False ..., False False False]\n",
      " ..., \n",
      " [False False False ..., False False False]\n",
      " [False False False ..., False False False]\n",
      " [False False False ..., False False False]]\n",
      "[[False False False ..., False False False]\n",
      " [False False False ..., False False False]\n",
      " [False False False ..., False False False]\n",
      " ..., \n",
      " [False False False ..., False False False]\n",
      " [False False False ..., False False False]\n",
      " [False False False ..., False False False]]\n",
      "[[False False False ..., False False False]\n",
      " [False False False ..., False False False]\n",
      " [False False False ..., False False False]\n",
      " ..., \n",
      " [False False False ..., False False False]\n",
      " [False False False ..., False False False]\n",
      " [False False False ..., False False False]]\n",
      "[[False False False ..., False False False]\n",
      " [False False False ..., False False False]\n",
      " [False False False ..., False False False]\n",
      " ..., \n",
      " [False False False ..., False False False]\n",
      " [False False False ..., False False False]\n",
      " [False False False ..., False False False]]\n"
     ]
    },
    {
     "ename": "KeyboardInterrupt",
     "evalue": "",
     "output_type": "error",
     "traceback": [
      "\u001b[0;31m---------------------------------------------------------------------------\u001b[0m",
      "\u001b[0;31mKeyboardInterrupt\u001b[0m                         Traceback (most recent call last)",
      "\u001b[0;32m<ipython-input-70-6c46c193d295>\u001b[0m in \u001b[0;36m<module>\u001b[0;34m()\u001b[0m\n\u001b[1;32m     53\u001b[0m             \u001b[0mellipsoids\u001b[0m\u001b[0;34m[\u001b[0m\u001b[0;34m:\u001b[0m\u001b[0;34m,\u001b[0m \u001b[0mx_center\u001b[0m\u001b[0;34m,\u001b[0m \u001b[0my_center\u001b[0m\u001b[0;34m]\u001b[0m \u001b[0;34m=\u001b[0m \u001b[0mcov\u001b[0m\u001b[0;34m.\u001b[0m\u001b[0mflatten\u001b[0m\u001b[0;34m(\u001b[0m\u001b[0;34m)\u001b[0m\u001b[0;34m\u001b[0m\u001b[0m\n\u001b[1;32m     54\u001b[0m \u001b[0;34m\u001b[0m\u001b[0m\n\u001b[0;32m---> 55\u001b[0;31m             \u001b[0mmask\u001b[0m \u001b[0;34m=\u001b[0m \u001b[0mskimage\u001b[0m\u001b[0;34m.\u001b[0m\u001b[0mfilters\u001b[0m\u001b[0;34m.\u001b[0m\u001b[0mrank\u001b[0m\u001b[0;34m.\u001b[0m\u001b[0mgradient\u001b[0m\u001b[0;34m(\u001b[0m\u001b[0mmask\u001b[0m\u001b[0;34m,\u001b[0m \u001b[0mskimage\u001b[0m\u001b[0;34m.\u001b[0m\u001b[0mmorphology\u001b[0m\u001b[0;34m.\u001b[0m\u001b[0mdisk\u001b[0m\u001b[0;34m(\u001b[0m\u001b[0;36m1\u001b[0m\u001b[0;34m)\u001b[0m\u001b[0;34m)\u001b[0m\u001b[0;34m\u001b[0m\u001b[0m\n\u001b[0m\u001b[1;32m     56\u001b[0m \u001b[0;34m\u001b[0m\u001b[0m\n\u001b[1;32m     57\u001b[0m             \u001b[0mXX\u001b[0m \u001b[0;34m=\u001b[0m \u001b[0mXX\u001b[0m \u001b[0;34m-\u001b[0m \u001b[0mx_center\u001b[0m\u001b[0;34m\u001b[0m\u001b[0m\n",
      "\u001b[0;32m~/miniconda3/lib/python3.6/site-packages/skimage/filters/rank/generic.py\u001b[0m in \u001b[0;36mgradient\u001b[0;34m(image, selem, out, mask, shift_x, shift_y)\u001b[0m\n\u001b[1;32m    313\u001b[0m     return _apply_scalar_per_pixel(generic_cy._gradient, image, selem,\n\u001b[1;32m    314\u001b[0m                                    \u001b[0mout\u001b[0m\u001b[0;34m=\u001b[0m\u001b[0mout\u001b[0m\u001b[0;34m,\u001b[0m \u001b[0mmask\u001b[0m\u001b[0;34m=\u001b[0m\u001b[0mmask\u001b[0m\u001b[0;34m,\u001b[0m\u001b[0;34m\u001b[0m\u001b[0m\n\u001b[0;32m--> 315\u001b[0;31m                                    shift_x=shift_x, shift_y=shift_y)\n\u001b[0m\u001b[1;32m    316\u001b[0m \u001b[0;34m\u001b[0m\u001b[0m\n\u001b[1;32m    317\u001b[0m \u001b[0;34m\u001b[0m\u001b[0m\n",
      "\u001b[0;32m~/miniconda3/lib/python3.6/site-packages/skimage/filters/rank/generic.py\u001b[0m in \u001b[0;36m_apply_scalar_per_pixel\u001b[0;34m(func, image, selem, out, mask, shift_x, shift_y, out_dtype)\u001b[0m\n\u001b[1;32m    112\u001b[0m \u001b[0;34m\u001b[0m\u001b[0m\n\u001b[1;32m    113\u001b[0m     func(image, selem, shift_x=shift_x, shift_y=shift_y, mask=mask,\n\u001b[0;32m--> 114\u001b[0;31m          out=out, max_bin=max_bin)\n\u001b[0m\u001b[1;32m    115\u001b[0m \u001b[0;34m\u001b[0m\u001b[0m\n\u001b[1;32m    116\u001b[0m     \u001b[0;32mreturn\u001b[0m \u001b[0mout\u001b[0m\u001b[0;34m.\u001b[0m\u001b[0mreshape\u001b[0m\u001b[0;34m(\u001b[0m\u001b[0mout\u001b[0m\u001b[0;34m.\u001b[0m\u001b[0mshape\u001b[0m\u001b[0;34m[\u001b[0m\u001b[0;34m:\u001b[0m\u001b[0;36m2\u001b[0m\u001b[0;34m]\u001b[0m\u001b[0;34m)\u001b[0m\u001b[0;34m\u001b[0m\u001b[0m\n",
      "\u001b[0;31mKeyboardInterrupt\u001b[0m: "
     ]
    }
   ],
   "source": [
    "# Compute joint mask, contours, centers and ellipsoids\n",
    "center_percentage = 0.01\n",
    "\n",
    "for image_name in os.listdir(train_data_dir):\n",
    "    print(image_name, '<- image name')\n",
    "    image_path = os.path.join(train_data_dir, image_name)\n",
    "    masks_path = os.path.join(image_path, 'masks')\n",
    "    \n",
    "    contours = None\n",
    "    centers = None\n",
    "    ellipsoids = None\n",
    "    center_locations = None\n",
    "    \n",
    "    for mask in os.listdir(masks_path):\n",
    "        if mask[0] != '.':\n",
    "            one_mask_path = os.path.join(masks_path, mask)\n",
    "            \n",
    "            mask = skimage.io.imread(one_mask_path)\n",
    "            #if mask.shape[0] < mask.shape[1]:\n",
    "            #    mask = mask.T\n",
    "            \n",
    "            # Computing centers\n",
    "            XX = numpy.arange(mask.shape[0]).reshape(-1, 1) * numpy.ones(mask.shape)\n",
    "            YY = numpy.arange(mask.shape[1]).reshape(1, -1) * numpy.ones(mask.shape)\n",
    "            \n",
    "            #XX, YY = numpy.meshgrid(numpy.arange(mask.shape[0]), \n",
    "            #                        numpy.arange(mask.shape[1]))\n",
    "            \n",
    "#             print(mask.shape)\n",
    "#             print(XX.shape)\n",
    "#             print(YY.shape)\n",
    "            x_center = int((XX * mask).sum() / mask.sum())\n",
    "            y_center = int((YY * mask).sum() / mask.sum())\n",
    "            \n",
    "            volume = mask.sum()\n",
    "            \n",
    "            if centers is None:\n",
    "                centers = numpy.zeros_like(mask)\n",
    "            \n",
    "            centers[x_center, y_center] = volume\n",
    "            \n",
    "            # Computing ellipsoids\n",
    "            x_coords = XX[mask > 0].flatten().reshape([-1, 1])\n",
    "            y_coords = YY[mask > 0].flatten().reshape([-1, 1])\n",
    "            \n",
    "            coords = numpy.concatenate([x_coords, y_coords], axis=1)\n",
    "            \n",
    "            cov = numpy.cov(coords.T)\n",
    "            \n",
    "            if ellipsoids is None:\n",
    "                ellipsoids = numpy.zeros((4,) + mask.shape)\n",
    "                \n",
    "            ellipsoids[:, x_center, y_center] = cov.flatten()\n",
    "            \n",
    "            mask = skimage.filters.rank.gradient(mask, skimage.morphology.disk(1))\n",
    "            \n",
    "            XX = XX - x_center\n",
    "            YY = YY - y_center\n",
    "            \n",
    "            if center_locations is None:\n",
    "                center_locations = numpy.zeros_like(mask)\n",
    "            \n",
    "            coords = numpy.concatenate(\n",
    "                [XX.reshape((1, XX.size)), YY.reshape((1, YY.size))],\n",
    "                axis=0)\n",
    "\n",
    "            dist = (coords * cov.dot(coords)).sum(axis=0).reshape(XX.shape)\n",
    "            center_locations[dist <= 1.0] = 1.0\n",
    "            \n",
    "            \n",
    "            \n",
    "            \n",
    "            \n",
    "            #for x_index in range(XX.shape[0]):\n",
    "            #    for y_index in range(YY.shape[1]):\n",
    "            #        vec = numpy.zeros([2, 1])\n",
    "            #        vec[0] = XX[x_index, y_index]\n",
    "            #        vec[1] = YY[x_index, y_index]\n",
    "            #        \n",
    "            #        res = vec.T.dot(cov.dot(vec))\n",
    "            #        if res < 0.01:\n",
    "            #            center_locations[x_index, y_index] = 1.0\n",
    "        \n",
    "            if contours is None:\n",
    "                contours = mask\n",
    "            else:\n",
    "                contours += mask\n",
    "    \n",
    "    contours = (contours > 1.0e-2).astype(float)\n",
    "#     print(contours.shape)\n",
    "    \n",
    "    numpy.save(os.path.join(masks_path, '.contours'), contours)\n",
    "    numpy.save(os.path.join(masks_path, '.centers'), centers)\n",
    "    numpy.save(os.path.join(masks_path, '.ellipsoids'), ellipsoids)\n",
    "    numpy.save(os.path.join(masks_path, '.center_locations'), center_locations)\n",
    "#     break\n",
    "    \n",
    "#     print(image_name)"
   ]
  },
  {
   "cell_type": "code",
   "execution_count": 32,
   "metadata": {},
   "outputs": [
    {
     "name": "stdout",
     "output_type": "stream",
     "text": [
      "Done\n"
     ]
    }
   ],
   "source": [
    "print('Done')"
   ]
  },
  {
   "cell_type": "code",
   "execution_count": 57,
   "metadata": {
    "collapsed": true
   },
   "outputs": [],
   "source": [
    "def browse_images(data_path, masks=True, weight=4.0):\n",
    "#     n = len(digits.images)\n",
    "    images = os.listdir(data_path)\n",
    "    \n",
    "    def view_image(image_index):\n",
    "        print(images[image_index])\n",
    "        image_path = os.path.join(data_path, images[image_index])\n",
    "        content_path = os.path.join(image_path, \n",
    "                                    'images/' + images[image_index] + '.png')\n",
    "        image = skimage.io.imread(content_path).astype(float)\n",
    "#         image = skimage.restoration.denoise_tv_chambolle(image, weight=weight)\n",
    "            \n",
    "#         if masks is not None:\n",
    "            \n",
    "\n",
    "        if masks:\n",
    "            masks_dir = os.path.join(image_path, \n",
    "                             'masks')\n",
    "\n",
    "#             print(os.listdir(masks_dir))\n",
    "            contours = numpy.load(os.path.join(masks_dir, '.contours.npy'))\n",
    "            centers = numpy.load(os.path.join(masks_dir, '.centers.npy'))\n",
    "        \n",
    "            image[:, :, 1] += contours * 255\n",
    "            image[:, :, 0] += centers * 255\n",
    "        \n",
    "        image = image.clip(0, 255) / 256\n",
    "        \n",
    "#         print(image.shape)\n",
    "#         print(image.max(), image.min())\n",
    "        \n",
    "        plt.figure(figsize=(10.0, 10.0))\n",
    "        plt.imshow(image)\n",
    "        plt.show()\n",
    "    interact(view_image, \n",
    "             image_index=widgets.IntSlider(min=0,max=len(images) - 1,step=1,value=0))"
   ]
  },
  {
   "cell_type": "code",
   "execution_count": 58,
   "metadata": {},
   "outputs": [
    {
     "data": {
      "application/vnd.jupyter.widget-view+json": {
       "model_id": "0e2be80626384a93adcae31f02ab2136",
       "version_major": 2,
       "version_minor": 0
      },
      "text/html": [
       "<p>Failed to display Jupyter Widget of type <code>interactive</code>.</p>\n",
       "<p>\n",
       "  If you're reading this message in the Jupyter Notebook or JupyterLab Notebook, it may mean\n",
       "  that the widgets JavaScript is still loading. If this message persists, it\n",
       "  likely means that the widgets JavaScript library is either not installed or\n",
       "  not enabled. See the <a href=\"https://ipywidgets.readthedocs.io/en/stable/user_install.html\">Jupyter\n",
       "  Widgets Documentation</a> for setup instructions.\n",
       "</p>\n",
       "<p>\n",
       "  If you're reading this message in another frontend (for example, a static\n",
       "  rendering on GitHub or <a href=\"https://nbviewer.jupyter.org/\">NBViewer</a>),\n",
       "  it may mean that your frontend doesn't currently support widgets.\n",
       "</p>\n"
      ],
      "text/plain": [
       "interactive(children=(IntSlider(value=0, description='image_index', max=669), Output()), _dom_classes=('widget-interact',))"
      ]
     },
     "metadata": {},
     "output_type": "display_data"
    }
   ],
   "source": [
    "browse_images(train_data_dir)"
   ]
  },
  {
   "cell_type": "code",
   "execution_count": 54,
   "metadata": {},
   "outputs": [
    {
     "data": {
      "application/vnd.jupyter.widget-view+json": {
       "model_id": "8aedf169cd4a4b1ba544fc4908b90f73",
       "version_major": 2,
       "version_minor": 0
      },
      "text/html": [
       "<p>Failed to display Jupyter Widget of type <code>interactive</code>.</p>\n",
       "<p>\n",
       "  If you're reading this message in the Jupyter Notebook or JupyterLab Notebook, it may mean\n",
       "  that the widgets JavaScript is still loading. If this message persists, it\n",
       "  likely means that the widgets JavaScript library is either not installed or\n",
       "  not enabled. See the <a href=\"https://ipywidgets.readthedocs.io/en/stable/user_install.html\">Jupyter\n",
       "  Widgets Documentation</a> for setup instructions.\n",
       "</p>\n",
       "<p>\n",
       "  If you're reading this message in another frontend (for example, a static\n",
       "  rendering on GitHub or <a href=\"https://nbviewer.jupyter.org/\">NBViewer</a>),\n",
       "  it may mean that your frontend doesn't currently support widgets.\n",
       "</p>\n"
      ],
      "text/plain": [
       "interactive(children=(IntSlider(value=0, description='image_index', max=669), Output()), _dom_classes=('widget-interact',))"
      ]
     },
     "metadata": {},
     "output_type": "display_data"
    }
   ],
   "source": [
    "browse_images(train_data_dir, masks=False)"
   ]
  },
  {
   "cell_type": "code",
   "execution_count": null,
   "metadata": {
    "collapsed": true
   },
   "outputs": [],
   "source": [
    "# Плохо размеченные картинки:\n",
    "# 7b38c9173ebe69b4c6ba7e703c0c27f39305d9b2910f46405993d2ea7a963b80\n"
   ]
  }
 ],
 "metadata": {
  "kernelspec": {
   "display_name": "Python 3",
   "language": "python",
   "name": "python3"
  },
  "language_info": {
   "codemirror_mode": {
    "name": "ipython",
    "version": 3
   },
   "file_extension": ".py",
   "mimetype": "text/x-python",
   "name": "python",
   "nbconvert_exporter": "python",
   "pygments_lexer": "ipython3",
   "version": "3.6.1"
  }
 },
 "nbformat": 4,
 "nbformat_minor": 2
}
